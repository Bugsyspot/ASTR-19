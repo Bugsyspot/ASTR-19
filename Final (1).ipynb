{
 "cells": [
  {
   "cell_type": "code",
   "execution_count": null,
   "id": "96733df2-f075-4a0e-84df-82d9fc353a0a",
   "metadata": {},
   "outputs": [],
   "source": [
    "import numpy as np\n",
    "import matplotlib.pyplot as plt\n",
    "import astropy\n",
    "import sep"
   ]
  },
  {
   "cell_type": "code",
   "execution_count": null,
   "id": "b49b71c4-b0c6-4344-b95e-aa38c47a44a2",
   "metadata": {},
   "outputs": [],
   "source": [
    "from astropy.io import fits\n",
    "from matplotlib import rcParams\n",
    "\n",
    "%matplotlib inline\n",
    "\n",
    "rcParams['figure.figsize'] = [10., 8.]"
   ]
  },
  {
   "cell_type": "markdown",
   "id": "f198178e-1a77-467a-949d-5286736b487c",
   "metadata": {},
   "source": [
    "imports and guidelines to make the plots show correctly"
   ]
  },
  {
   "cell_type": "code",
   "execution_count": null,
   "id": "90673636-e12c-4db1-bd9e-0797d6c4d49a",
   "metadata": {},
   "outputs": [],
   "source": [
    "hdulist = fits.open('image.fits')\n",
    "data = hdulist[0].data"
   ]
  },
  {
   "cell_type": "markdown",
   "id": "4a4ea4bb-7aee-48d9-8cd1-9d040dec747c",
   "metadata": {},
   "source": [
    "importing the image with astropy and defining the data"
   ]
  },
  {
   "cell_type": "code",
   "execution_count": null,
   "id": "169caf4f-bd0e-46d4-980b-f353fc09e2a9",
   "metadata": {
    "scrolled": true
   },
   "outputs": [],
   "source": [
    "m, s = np.mean(data), np.std(data)\n",
    "plt.imshow(data, interpolation='nearest', cmap='gray', vmin=m-s, vmax=m+s, origin='lower')\n",
    "plt.colorbar();\n",
    "plt.savefig('image raw')"
   ]
  },
  {
   "cell_type": "markdown",
   "id": "f8518545-1533-47fb-a057-5a1df62e1f84",
   "metadata": {},
   "source": [
    "returning the image"
   ]
  },
  {
   "cell_type": "code",
   "execution_count": null,
   "id": "4e04b448-2718-479d-897a-d8ad4f02cadb",
   "metadata": {},
   "outputs": [],
   "source": [
    "bkg = sep.Background(data)"
   ]
  },
  {
   "cell_type": "markdown",
   "id": "5522ca44-8b8a-4529-ae46-3c0b6950cec6",
   "metadata": {},
   "source": [
    "measuring out a background from the image"
   ]
  },
  {
   "cell_type": "code",
   "execution_count": null,
   "id": "0241cd34-1fd7-452d-b720-4d3c778e2734",
   "metadata": {},
   "outputs": [],
   "source": [
    "print(bkg.globalback)\n",
    "print(bkg.globalrms)"
   ]
  },
  {
   "cell_type": "markdown",
   "id": "5091f695-e2e2-44f3-a294-5defc2268a7e",
   "metadata": {},
   "source": [
    "return an overall noise and mean of the background"
   ]
  },
  {
   "cell_type": "code",
   "execution_count": null,
   "id": "c6a4c003-c815-40d0-9514-11c8d313df46",
   "metadata": {},
   "outputs": [],
   "source": [
    "bkg_image = bkg.back()"
   ]
  },
  {
   "cell_type": "markdown",
   "id": "aec1dc88-22d7-48d6-ba19-0b4478a71eb5",
   "metadata": {},
   "source": [
    "turn the background into an s-d array "
   ]
  },
  {
   "cell_type": "code",
   "execution_count": null,
   "id": "a5c15842-3305-4514-83a1-f58dd6b133d2",
   "metadata": {},
   "outputs": [],
   "source": [
    "plt.imshow(bkg_image, interpolation='nearest', cmap='gray', origin='lower')\n",
    "plt.colorbar();\n",
    "plt.savefig('background')"
   ]
  },
  {
   "cell_type": "markdown",
   "id": "ffc479f8-6f09-4749-9545-f96259f1330c",
   "metadata": {},
   "source": [
    "return the background with all the specifications"
   ]
  },
  {
   "cell_type": "code",
   "execution_count": null,
   "id": "a9bec449-9970-45e5-9ffd-d1a9ee8fa19f",
   "metadata": {},
   "outputs": [],
   "source": [
    "bkg_rms = bkg.rms()"
   ]
  },
  {
   "cell_type": "markdown",
   "id": "4aaf3dcc-8e8b-4029-83c9-00ad28e26a03",
   "metadata": {},
   "source": [
    "turn the noise of the background as a 2-d array"
   ]
  },
  {
   "cell_type": "code",
   "execution_count": null,
   "id": "9487fd3d-39d5-4747-a9e5-96532a284898",
   "metadata": {},
   "outputs": [],
   "source": [
    "plt.imshow(bkg_rms, interpolation='nearest', cmap='gray', origin='lower')\n",
    "plt.colorbar();\n",
    "plt.savefig('background2')"
   ]
  },
  {
   "cell_type": "markdown",
   "id": "40d4a193-ece0-48b5-a378-63a507541ab6",
   "metadata": {},
   "source": [
    "show the 2-d array of the background noise"
   ]
  },
  {
   "cell_type": "code",
   "execution_count": null,
   "id": "d7cbf1cd-f162-4e36-9a75-6f3ba16e2ff5",
   "metadata": {},
   "outputs": [],
   "source": [
    "data_sub = data - bkg"
   ]
  },
  {
   "cell_type": "markdown",
   "id": "5be2dbf8-d13f-47b5-bee3-136b109e6c6d",
   "metadata": {},
   "source": [
    "remove the background"
   ]
  },
  {
   "cell_type": "code",
   "execution_count": null,
   "id": "c8d3f82d-875d-439a-9873-b79b67dff967",
   "metadata": {},
   "outputs": [],
   "source": [
    "objects = sep.extract(data_sub, 1.5, err=bkg.globalrms)"
   ]
  },
  {
   "cell_type": "markdown",
   "id": "f72d7c1d-04a4-46e9-83ac-63215204b7ef",
   "metadata": {},
   "source": [
    "set a threshold for the background noise"
   ]
  },
  {
   "cell_type": "code",
   "execution_count": null,
   "id": "e078db92-5ee2-4005-840d-b554fe3c9b3b",
   "metadata": {},
   "outputs": [],
   "source": [
    "len(objects)"
   ]
  },
  {
   "cell_type": "markdown",
   "id": "9c1687ee-7e73-442b-a178-39f849d6c6ca",
   "metadata": {},
   "source": [
    "return the number of objects found from the threshold"
   ]
  },
  {
   "cell_type": "code",
   "execution_count": null,
   "id": "dc3baff2-2ce9-416d-8444-bc10046876be",
   "metadata": {},
   "outputs": [],
   "source": [
    "from matplotlib.patches import Ellipse\n",
    "fig, ax = plt.subplots()\n",
    "m, s = np.mean(data_sub), np.std(data_sub)\n",
    "im = ax.imshow(data_sub, interpolation='nearest', cmap='gray',\n",
    "               vmin=m-s, vmax=m+s, origin='lower')\n",
    "for i in range(len(objects)):\n",
    "    e = Ellipse(xy=(objects['x'][i], objects['y'][i]),\n",
    "                width=6*objects['a'][i],\n",
    "                height=6*objects['b'][i],\n",
    "                angle=objects['theta'][i] * 180. / np.pi)\n",
    "    e.set_facecolor('none')\n",
    "    e.set_edgecolor('red')\n",
    "    ax.add_artist(e)\n",
    "plt.savefig('highlighted_final')"
   ]
  },
  {
   "cell_type": "markdown",
   "id": "95defc89-2f81-453f-9f6e-9b66b71cd268",
   "metadata": {},
   "source": [
    "plot the image of the removed background\n",
    "circle each detected object in red"
   ]
  },
  {
   "cell_type": "code",
   "execution_count": null,
   "id": "9864dd65-c0d9-48f5-90fa-9055703181c1",
   "metadata": {},
   "outputs": [],
   "source": [
    "objects.dtype.names"
   ]
  },
  {
   "cell_type": "markdown",
   "id": "694fbd09-374e-405c-8c63-7a800cd0c760",
   "metadata": {},
   "source": [
    "list what other parameters could have been found"
   ]
  },
  {
   "cell_type": "code",
   "execution_count": null,
   "id": "ce72a47f-c458-4fc9-aa86-bb3888895773",
   "metadata": {},
   "outputs": [],
   "source": [
    "flux, fluxerr, flag = sep.sum_circle(data_sub, objects['x'], objects['y'],\n",
    "                                     3.0, err=bkg.globalrms, gain=1.0)"
   ]
  },
  {
   "cell_type": "markdown",
   "id": "3a9f8a7a-4a3d-4125-aa57-331248ca8097",
   "metadata": {},
   "source": [
    "setting a radius for the objects"
   ]
  },
  {
   "cell_type": "code",
   "execution_count": null,
   "id": "6ac1aaa1-300f-4d67-a29f-66705db14212",
   "metadata": {},
   "outputs": [],
   "source": [
    "for i in range(10):\n",
    "    print(\"object {:d}: flux = {:f} +/- {:f}\".format(i, flux[i], fluxerr[i]))"
   ]
  },
  {
   "cell_type": "markdown",
   "id": "b6b23d62-7c67-4112-a385-39db1c23cc28",
   "metadata": {},
   "source": [
    "return the first 10 results"
   ]
  }
 ],
 "metadata": {
  "kernelspec": {
   "display_name": "Python 3 (ipykernel)",
   "language": "python",
   "name": "python3"
  },
  "language_info": {
   "codemirror_mode": {
    "name": "ipython",
    "version": 3
   },
   "file_extension": ".py",
   "mimetype": "text/x-python",
   "name": "python",
   "nbconvert_exporter": "python",
   "pygments_lexer": "ipython3",
   "version": "3.12.0"
  }
 },
 "nbformat": 4,
 "nbformat_minor": 5
}
