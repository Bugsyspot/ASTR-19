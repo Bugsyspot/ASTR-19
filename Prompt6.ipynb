{
 "cells": [
  {
   "cell_type": "markdown",
   "id": "ec7bf850-8960-439b-bfa0-19eab9b47bb9",
   "metadata": {},
   "source": [
    "# import numpy as np"
   ]
  },
  {
   "cell_type": "code",
   "execution_count": null,
   "id": "2a6a4879-9fbd-447a-9445-0b90b0525746",
   "metadata": {},
   "outputs": [],
   "source": [
    "def main():\n",
    "    sin(x) == np.sin(x)"
   ]
  },
  {
   "cell_type": "code",
   "execution_count": null,
   "id": "3ea60273-e59e-487c-ae4d-5c7c6c7c9b7d",
   "metadata": {},
   "outputs": [],
   "source": [
    "def main():\n",
    "    cos(x) == np.cos(x)"
   ]
  },
  {
   "cell_type": "code",
   "execution_count": null,
   "id": "8ef0dc6c-c8a9-4723-80e7-56b2a50a22d5",
   "metadata": {},
   "outputs": [],
   "source": [
    "x = np.linspace(0.0, 2*np.pi, num=1000)\n",
    "print(\"x|cos(x)|sin(x)\")"
   ]
  },
  {
   "cell_type": "code",
   "execution_count": null,
   "id": "4dc35659-e2b4-4c4d-9764-90340328458a",
   "metadata": {},
   "outputs": [],
   "source": [
    "for i in range(1000):\n",
    "    print(f\"{x[i]}|{sinx[i]}:\")"
   ]
  },
  {
   "cell_type": "code",
   "execution_count": null,
   "id": "c989397f-11ad-47fe-83fb-1af95728aa76",
   "metadata": {},
   "outputs": [],
   "source": []
  }
 ],
 "metadata": {
  "kernelspec": {
   "display_name": "Python 3 (ipykernel)",
   "language": "python",
   "name": "python3"
  },
  "language_info": {
   "codemirror_mode": {
    "name": "ipython",
    "version": 3
   },
   "file_extension": ".py",
   "mimetype": "text/x-python",
   "name": "python",
   "nbconvert_exporter": "python",
   "pygments_lexer": "ipython3",
   "version": "3.12.0"
  }
 },
 "nbformat": 4,
 "nbformat_minor": 5
}
